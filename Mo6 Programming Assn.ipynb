{
 "cells": [
  {
   "cell_type": "markdown",
   "id": "34050e22-a9bf-4d94-9e32-eaf8a52b4f9c",
   "metadata": {},
   "source": [
    "MO6 Programming Assignment : Concurrency in Python\n",
    "Hannah Pruett\n",
    "04-22-2025\n",
    "This Notebook contains 13.1, 13.2, 13.3, 15.1 tasks. "
   ]
  },
  {
   "cell_type": "code",
   "execution_count": 2,
   "id": "6fe8ec27-09df-4db2-a1bf-d801e67e1262",
   "metadata": {},
   "outputs": [],
   "source": [
    "#13.1 Task: Write the current date as a string into the txt file today.txt\n",
    "from datetime import date\n",
    "now = date.today()\n",
    "now_str = now.isoformat()\n",
    "with open('today.txt', 'wt') as output:\n",
    "    print(now_str, file=output)"
   ]
  },
  {
   "cell_type": "code",
   "execution_count": null,
   "id": "86fb5a78-3fa5-4537-8589-43ccb01f0b61",
   "metadata": {},
   "outputs": [],
   "source": [
    "#13.2 Task: Read the file today.txt into string today_string\n",
    "with open('today.txt','rt') as input:\n",
    "    today_string = input.read()\n",
    "\n",
    "print (today_string)"
   ]
  },
  {
   "cell_type": "code",
   "execution_count": null,
   "id": "63cd9ad6-04ba-4533-8af2-51e66980c7e0",
   "metadata": {},
   "outputs": [],
   "source": [
    "#13.3 Task: Parse the date from today_string\n",
    "import time\n",
    "fmt = \"%Y-%m-%d\\n\"\n",
    "print(time.strptime(today_string,fmt))"
   ]
  },
  {
   "cell_type": "code",
   "execution_count": null,
   "id": "54c16ff2-c444-4e45-bdfc-a88fb3f48633",
   "metadata": {},
   "outputs": [],
   "source": [
    "#15.1 Task: Use multiprocessing to create three separate processes. \n",
    "#Make each one wait a random number of seconds between zero and one, print the current time, and then exit.\n",
    "import multiprocessing\n",
    "import os\n",
    "\n",
    "def right_now(seconds):\n",
    "    from datetime import datetime\n",
    "    from time import sleep\n",
    "    sleep(seconds)\n",
    "    print ('Wait', seconds, 'seconds, the time is', datetime.now())\n",
    "    \n",
    "#calls the function\n",
    "if __name__ == '__main__':\n",
    "    import random \n",
    "    for n in range(3):\n",
    "        seconds = random.random()\n",
    "        proc = multiprocessing.Process(target=right_now, args=(seconds,))\n",
    "        proc.start()"
   ]
  }
 ],
 "metadata": {
  "kernelspec": {
   "display_name": "Python [conda env:base] *",
   "language": "python",
   "name": "conda-base-py"
  },
  "language_info": {
   "codemirror_mode": {
    "name": "ipython",
    "version": 3
   },
   "file_extension": ".py",
   "mimetype": "text/x-python",
   "name": "python",
   "nbconvert_exporter": "python",
   "pygments_lexer": "ipython3",
   "version": "3.12.7"
  }
 },
 "nbformat": 4,
 "nbformat_minor": 5
}
